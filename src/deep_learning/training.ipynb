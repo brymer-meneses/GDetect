{
  "nbformat": 4,
  "nbformat_minor": 0,
  "metadata": {
    "accelerator": "GPU",
    "colab": {
      "name": "GDetect-ID_Identification.ipynb",
      "provenance": [],
      "authorship_tag": "ABX9TyOpmykwJfF3JAJAI99ALcHS",
      "include_colab_link": true
    },
    "kernelspec": {
      "display_name": "Python 3",
      "name": "python3"
    },
    "language_info": {
      "name": "python"
    }
  },
  "cells": [
    {
      "cell_type": "markdown",
      "metadata": {
        "id": "view-in-github",
        "colab_type": "text"
      },
      "source": [
        "<a href=\"https://colab.research.google.com/github/brymer-meneses/GDetect/blob/main/src/deep_learning/training.ipynb\" target=\"_parent\"><img src=\"https://colab.research.google.com/assets/colab-badge.svg\" alt=\"Open In Colab\"/></a>"
      ]
    },
    {
      "cell_type": "code",
      "metadata": {
        "id": "9lleNKk5jj0t"
      },
      "source": [
        "import tensorflow as tf \n",
        "import tensorflow_hub as hub\n",
        "import numpy as np\n",
        "\n",
        "from tensorflow.keras.models import save_model, load_model, Sequential\n",
        "from tensorflow.keras.preprocessing.image import ImageDataGenerator\n",
        "\n",
        "from tensorflow.keras.layers import Dense, Dropout, Flatten, GlobalAveragePooling2D\n",
        "from tensorflow.keras.optimizers import Adam, Adamax\n",
        "from tensorflow.keras.callbacks import EarlyStopping\n",
        "\n",
        "import matplotlib.pyplot as plt\n",
        "import os\n"
      ],
      "execution_count": 1,
      "outputs": []
    },
    {
      "cell_type": "code",
      "metadata": {
        "colab": {
          "base_uri": "https://localhost:8080/"
        },
        "id": "tXycAwUkj1De",
        "outputId": "fd5bb302-6303-40f6-cb72-ac742c68f0fa"
      },
      "source": [
        "from google.colab import drive\n",
        "drive.mount(\"/content/drive\")"
      ],
      "execution_count": 2,
      "outputs": [
        {
          "output_type": "stream",
          "text": [
            "Drive already mounted at /content/drive; to attempt to forcibly remount, call drive.mount(\"/content/drive\", force_remount=True).\n"
          ],
          "name": "stdout"
        }
      ]
    },
    {
      "cell_type": "code",
      "metadata": {
        "id": "o7LIDAWcrxRO"
      },
      "source": [
        "data_dir = \"/content/drive/MyDrive/BuildOnAsean2021/Training_Data\"\n",
        "batch_size = 3\n",
        "img_size = (512, 512)"
      ],
      "execution_count": 3,
      "outputs": []
    },
    {
      "cell_type": "code",
      "metadata": {
        "id": "Zz215DlIkPJp"
      },
      "source": [
        "datagen = ImageDataGenerator(rescale=1./255, horizontal_flip=True, vertical_flip=True, brightness_range=[0.8, 1.2])"
      ],
      "execution_count": 4,
      "outputs": []
    },
    {
      "cell_type": "code",
      "metadata": {
        "colab": {
          "base_uri": "https://localhost:8080/"
        },
        "id": "P-eJ-EANnkgo",
        "outputId": "10773d71-9b73-4555-98cc-62d787fed3f7"
      },
      "source": [
        "dataset = datagen.flow_from_directory(\n",
        "    data_dir, color_mode=\"rgb\",\n",
        "    batch_size=batch_size, \n",
        "    target_size=img_size, shuffle=True)"
      ],
      "execution_count": 5,
      "outputs": [
        {
          "output_type": "stream",
          "text": [
            "Found 92 images belonging to 7 classes.\n"
          ],
          "name": "stdout"
        }
      ]
    },
    {
      "cell_type": "code",
      "metadata": {
        "colab": {
          "base_uri": "https://localhost:8080/"
        },
        "id": "wetS2wJyOr4x",
        "outputId": "6448d489-13bb-4de3-dd5e-f03f9c4761e0"
      },
      "source": [
        "print(dataset.class_indices)"
      ],
      "execution_count": 6,
      "outputs": [
        {
          "output_type": "stream",
          "text": [
            "{'DRIVERS_LICENSE': 0, 'INVALID': 1, 'NATIONAL ID': 2, 'PASSPORT': 3, 'PHILHEALTH': 4, 'SSS': 5, 'VOTER_S ID': 6}\n"
          ],
          "name": "stdout"
        }
      ]
    },
    {
      "cell_type": "code",
      "metadata": {
        "id": "wyv5WxIOO8Yp"
      },
      "source": [
        "URL = \"https://tfhub.dev/google/imagenet/efficientnet_v2_imagenet21k_xl/feature_vector/2\"\n",
        "pretrained_model = hub.KerasLayer(URL, input_shape=(512,512,3))"
      ],
      "execution_count": 7,
      "outputs": []
    },
    {
      "cell_type": "code",
      "metadata": {
        "id": "Md6hjwzaP2sE"
      },
      "source": [
        "model = Sequential()\n",
        "model.add(pretrained_model)\n",
        "model.add(Dense(512, activation=\"relu\"))\n",
        "model.add(Dropout(0.30))\n",
        "model.add(Dense(7, activation=\"softmax\"))"
      ],
      "execution_count": 8,
      "outputs": []
    },
    {
      "cell_type": "code",
      "metadata": {
        "colab": {
          "base_uri": "https://localhost:8080/"
        },
        "id": "A0KBeH_kQb7L",
        "outputId": "fbf9ab96-cae7-4e9a-9270-817509b83db7"
      },
      "source": [
        "model.summary()"
      ],
      "execution_count": 9,
      "outputs": [
        {
          "output_type": "stream",
          "text": [
            "Model: \"sequential\"\n",
            "_________________________________________________________________\n",
            "Layer (type)                 Output Shape              Param #   \n",
            "=================================================================\n",
            "keras_layer (KerasLayer)     (None, 1280)              207615832 \n",
            "_________________________________________________________________\n",
            "dense (Dense)                (None, 512)               655872    \n",
            "_________________________________________________________________\n",
            "dropout (Dropout)            (None, 512)               0         \n",
            "_________________________________________________________________\n",
            "dense_1 (Dense)              (None, 7)                 3591      \n",
            "=================================================================\n",
            "Total params: 208,275,295\n",
            "Trainable params: 659,463\n",
            "Non-trainable params: 207,615,832\n",
            "_________________________________________________________________\n"
          ],
          "name": "stdout"
        }
      ]
    },
    {
      "cell_type": "code",
      "metadata": {
        "id": "FI4cnNOyQe1-"
      },
      "source": [
        "model.compile(optimizer = Adamax(), loss= 'categorical_crossentropy', metrics = ['accuracy'])\n"
      ],
      "execution_count": 10,
      "outputs": []
    },
    {
      "cell_type": "code",
      "metadata": {
        "id": "Z8fmVzkcQkFJ"
      },
      "source": [
        "es = EarlyStopping(monitor = 'loss', patience =1)"
      ],
      "execution_count": 11,
      "outputs": []
    },
    {
      "cell_type": "code",
      "metadata": {
        "colab": {
          "base_uri": "https://localhost:8080/"
        },
        "id": "XqUCRzfdQk4X",
        "outputId": "679e67af-64d3-4799-b225-208064222eae"
      },
      "source": [
        "history = model.fit(dataset, epochs = 10, callbacks = es)"
      ],
      "execution_count": 12,
      "outputs": [
        {
          "output_type": "stream",
          "text": [
            "Epoch 1/10\n",
            " 9/31 [=======>......................] - ETA: 6s - loss: 3.5280 - accuracy: 0.2593"
          ],
          "name": "stdout"
        },
        {
          "output_type": "stream",
          "text": [
            "/usr/local/lib/python3.7/dist-packages/PIL/Image.py:960: UserWarning: Palette images with Transparency expressed in bytes should be converted to RGBA images\n",
            "  \"Palette images with Transparency expressed in bytes should be \"\n"
          ],
          "name": "stderr"
        },
        {
          "output_type": "stream",
          "text": [
            "31/31 [==============================] - 45s 339ms/step - loss: 2.8880 - accuracy: 0.2935\n",
            "Epoch 2/10\n",
            "31/31 [==============================] - 9s 298ms/step - loss: 0.9772 - accuracy: 0.6304\n",
            "Epoch 3/10\n",
            "31/31 [==============================] - 9s 301ms/step - loss: 0.5191 - accuracy: 0.8370\n",
            "Epoch 4/10\n",
            "31/31 [==============================] - 9s 303ms/step - loss: 0.3075 - accuracy: 0.9239\n",
            "Epoch 5/10\n",
            "31/31 [==============================] - 9s 304ms/step - loss: 0.2531 - accuracy: 0.9457\n",
            "Epoch 6/10\n",
            "31/31 [==============================] - 9s 308ms/step - loss: 0.1899 - accuracy: 0.9674\n",
            "Epoch 7/10\n",
            "31/31 [==============================] - 10s 306ms/step - loss: 0.0943 - accuracy: 0.9891\n",
            "Epoch 8/10\n",
            "31/31 [==============================] - 10s 310ms/step - loss: 0.0951 - accuracy: 0.9891\n"
          ],
          "name": "stdout"
        }
      ]
    },
    {
      "cell_type": "code",
      "metadata": {
        "colab": {
          "base_uri": "https://localhost:8080/",
          "height": 573
        },
        "id": "Qr2AtKD6Vkpe",
        "outputId": "8b8a3b53-24c2-4589-8f30-3572409255d3"
      },
      "source": [
        "plt.plot(history.history['accuracy'])\n",
        "plt.title('Model Accuracy')\n",
        "plt.ylabel('Accuracy')\n",
        "plt.xlabel('Epoch')\n",
        "plt.legend(['Train'], loc = 'upper left')\n",
        "plt.show()\n",
        "\n",
        "plt.plot(history.history['loss'])\n",
        "plt.title('Model Loss')\n",
        "plt.ylabel('loss')\n",
        "plt.xlabel('epoch')\n",
        "plt.legend(['Train'], loc = 'upper left')\n",
        "plt.show()"
      ],
      "execution_count": 13,
      "outputs": [
        {
          "output_type": "display_data",
          "data": {
            "image/png": "[encoded data removed]",
            "text/plain": [
              "<Figure size 432x288 with 1 Axes>"
            ]
          },
          "metadata": {
            "tags": [],
            "needs_background": "light"
          }
        },
        {
          "output_type": "display_data",
          "data": {
            "image/png": "[encoded data removed]",
            "text/plain": [
              "<Figure size 432x288 with 1 Axes>"
            ]
          },
          "metadata": {
            "tags": [],
            "needs_background": "light"
          }
        }
      ]
    },
    {
      "cell_type": "code",
      "metadata": {
        "id": "BeSQSo-OWuYu"
      },
      "source": [
        "os.chdir('/content/drive/MyDrive/BuildOnAsean2021')\n",
        "model.save(\"EfficientNetv2_xl.h5\")\n"
      ],
      "execution_count": 14,
      "outputs": []
    }
  ]
}